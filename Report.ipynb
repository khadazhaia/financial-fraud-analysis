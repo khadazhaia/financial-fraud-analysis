{
 "cells": [
  {
   "cell_type": "markdown",
   "metadata": {},
   "source": [
    "## Summary findings of EDA, Cleaning & Modeling"
   ]
  },
  {
   "cell_type": "markdown",
   "metadata": {},
   "source": [
    "1.  Which insights did you gain from your EDA? \n",
    "- Out of 6 million transactions less than 1% of transactions are fraud \n",
    "\n",
    "- There are 5 different type of transactions and cash out transactions are used the most.\n",
    "\n",
    "- Only cash out and transfer transactions are fraud and tends to happen at higher transacation amounts. \n",
    "\n",
    "- Fraud transactions remain relatively steady, indicating consistent fraudulent activity over time. Non-fraud transactions experience high variability and a dramatic decrease after step 400. The disparity in counts (fraud in the tens, non-fraud in the tens of thousands) shows that fraud is a relatively small fraction of total transactions.\n",
    "\n",
    "- Transfer transactions have the highest median and the widest range, indicating variability in the amounts. Payment and debit transactions generally involve smaller amounts with a few exceptions. Cash in and cash out transactions are more moderate in size but still show a number of large outliers."
   ]
  },
  {
   "cell_type": "markdown",
   "metadata": {},
   "source": [
    "2. How did you determine which columns to drop or keep? If your EDA informed this process, explain which insights you used to determine which columns were not needed. \n",
    "\n",
    "- Dropped step as fraud transactions remain steady over time. There wasn't really any noticeable changes in fraud. Insight used was a lineplot of fraud transcations over time.\n",
    "\n",
    "- Dropped nameDest and nameOrig as it doesnt add any value to the dataset. I don't need the individuals names for fraud dectection.\n",
    "\n",
    "- Dropped isFlaggedFraud as there are only 16 transactions. That's a very miniscule and irrelevant number out of 6 million transacations. Insight used isflaggedfraud = financial_df[financial_df[\"isFlaggedFraud\"] == 1]."
   ]
  },
  {
   "cell_type": "markdown",
   "metadata": {},
   "source": [
    "3. Which hyperparameter tuning strategy did you use? Grid-search or random-search? Why? \n",
    "- I used random-search becauses its faster than grid-search. "
   ]
  },
  {
   "cell_type": "markdown",
   "metadata": {},
   "source": [
    "4. How did your model's performance change after discovering optimal hyperparameters? \n",
    "\n",
    "- After hyperparameter optimization, the model has improved recall slightly but at the cost of lower precision. This means it catches more fraud cases but also incorrectly labels more not fraud cases as fraud.\n",
    "\n"
   ]
  },
  {
   "cell_type": "markdown",
   "metadata": {},
   "source": [
    "5. What was your final F1 Score? \n",
    "- Final F1 Score 0.49%"
   ]
  }
 ],
 "metadata": {
  "language_info": {
   "name": "python"
  }
 },
 "nbformat": 4,
 "nbformat_minor": 2
}
